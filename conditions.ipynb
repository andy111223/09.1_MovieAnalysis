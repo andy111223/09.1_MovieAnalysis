{
 "cells": [
  {
   "cell_type": "markdown",
   "metadata": {},
   "source": [
    "To apply a condition to a column in a pandas DataFrame, you can use Boolean indexing or the loc method to filter or modify rows. Here are some common ways to use conditions in a DataFrame column:"
   ]
  },
  {
   "cell_type": "code",
   "execution_count": 1,
   "metadata": {},
   "outputs": [],
   "source": [
    "import pandas as pd"
   ]
  },
  {
   "cell_type": "code",
   "execution_count": 3,
   "metadata": {},
   "outputs": [
    {
     "data": {
      "text/plain": [
       "{'name': ['Alice', 'Bob', 'Charlie', 'David'],\n",
       " 'age': [25, 30, 35, 40],\n",
       " 'score': [85, 90, 75, 80]}"
      ]
     },
     "execution_count": 3,
     "metadata": {},
     "output_type": "execute_result"
    }
   ],
   "source": [
    "data = {\n",
    "    'name' : ['Alice', 'Bob', 'Charlie', 'David'],\n",
    "    'age' : [25, 30, 35, 40],\n",
    "    'score' : [85, 90, 75, 80]\n",
    "}\n",
    "data"
   ]
  },
  {
   "cell_type": "code",
   "execution_count": 5,
   "metadata": {},
   "outputs": [
    {
     "data": {
      "text/html": [
       "<div>\n",
       "<style scoped>\n",
       "    .dataframe tbody tr th:only-of-type {\n",
       "        vertical-align: middle;\n",
       "    }\n",
       "\n",
       "    .dataframe tbody tr th {\n",
       "        vertical-align: top;\n",
       "    }\n",
       "\n",
       "    .dataframe thead th {\n",
       "        text-align: right;\n",
       "    }\n",
       "</style>\n",
       "<table border=\"1\" class=\"dataframe\">\n",
       "  <thead>\n",
       "    <tr style=\"text-align: right;\">\n",
       "      <th></th>\n",
       "      <th>name</th>\n",
       "      <th>age</th>\n",
       "      <th>score</th>\n",
       "    </tr>\n",
       "  </thead>\n",
       "  <tbody>\n",
       "    <tr>\n",
       "      <th>0</th>\n",
       "      <td>Alice</td>\n",
       "      <td>25</td>\n",
       "      <td>85</td>\n",
       "    </tr>\n",
       "    <tr>\n",
       "      <th>1</th>\n",
       "      <td>Bob</td>\n",
       "      <td>30</td>\n",
       "      <td>90</td>\n",
       "    </tr>\n",
       "    <tr>\n",
       "      <th>2</th>\n",
       "      <td>Charlie</td>\n",
       "      <td>35</td>\n",
       "      <td>75</td>\n",
       "    </tr>\n",
       "    <tr>\n",
       "      <th>3</th>\n",
       "      <td>David</td>\n",
       "      <td>40</td>\n",
       "      <td>80</td>\n",
       "    </tr>\n",
       "  </tbody>\n",
       "</table>\n",
       "</div>"
      ],
      "text/plain": [
       "      name  age  score\n",
       "0    Alice   25     85\n",
       "1      Bob   30     90\n",
       "2  Charlie   35     75\n",
       "3    David   40     80"
      ]
     },
     "execution_count": 5,
     "metadata": {},
     "output_type": "execute_result"
    }
   ],
   "source": [
    "df = pd.DataFrame(data)\n",
    "df"
   ]
  },
  {
   "cell_type": "markdown",
   "metadata": {},
   "source": [
    "1. Filtering Rows Based on a Condition\n",
    "You can filter the rows of a DataFrame by applying a condition to a column."
   ]
  },
  {
   "cell_type": "code",
   "execution_count": 6,
   "metadata": {},
   "outputs": [
    {
     "data": {
      "text/html": [
       "<div>\n",
       "<style scoped>\n",
       "    .dataframe tbody tr th:only-of-type {\n",
       "        vertical-align: middle;\n",
       "    }\n",
       "\n",
       "    .dataframe tbody tr th {\n",
       "        vertical-align: top;\n",
       "    }\n",
       "\n",
       "    .dataframe thead th {\n",
       "        text-align: right;\n",
       "    }\n",
       "</style>\n",
       "<table border=\"1\" class=\"dataframe\">\n",
       "  <thead>\n",
       "    <tr style=\"text-align: right;\">\n",
       "      <th></th>\n",
       "      <th>name</th>\n",
       "      <th>age</th>\n",
       "      <th>score</th>\n",
       "    </tr>\n",
       "  </thead>\n",
       "  <tbody>\n",
       "    <tr>\n",
       "      <th>2</th>\n",
       "      <td>Charlie</td>\n",
       "      <td>35</td>\n",
       "      <td>75</td>\n",
       "    </tr>\n",
       "    <tr>\n",
       "      <th>3</th>\n",
       "      <td>David</td>\n",
       "      <td>40</td>\n",
       "      <td>80</td>\n",
       "    </tr>\n",
       "  </tbody>\n",
       "</table>\n",
       "</div>"
      ],
      "text/plain": [
       "      name  age  score\n",
       "2  Charlie   35     75\n",
       "3    David   40     80"
      ]
     },
     "execution_count": 6,
     "metadata": {},
     "output_type": "execute_result"
    }
   ],
   "source": [
    "# Get rows where 'age' is greater than 30\n",
    "filtered_df = df[df['age']>30]\n",
    "filtered_df"
   ]
  },
  {
   "cell_type": "markdown",
   "metadata": {},
   "source": [
    "2. Modifying Values Based on a Condition\n",
    "To modify the values in a column based on a condition, you can use the loc method."
   ]
  },
  {
   "cell_type": "code",
   "execution_count": 7,
   "metadata": {},
   "outputs": [
    {
     "data": {
      "text/html": [
       "<div>\n",
       "<style scoped>\n",
       "    .dataframe tbody tr th:only-of-type {\n",
       "        vertical-align: middle;\n",
       "    }\n",
       "\n",
       "    .dataframe tbody tr th {\n",
       "        vertical-align: top;\n",
       "    }\n",
       "\n",
       "    .dataframe thead th {\n",
       "        text-align: right;\n",
       "    }\n",
       "</style>\n",
       "<table border=\"1\" class=\"dataframe\">\n",
       "  <thead>\n",
       "    <tr style=\"text-align: right;\">\n",
       "      <th></th>\n",
       "      <th>name</th>\n",
       "      <th>age</th>\n",
       "      <th>score</th>\n",
       "    </tr>\n",
       "  </thead>\n",
       "  <tbody>\n",
       "    <tr>\n",
       "      <th>0</th>\n",
       "      <td>Alice</td>\n",
       "      <td>25</td>\n",
       "      <td>85</td>\n",
       "    </tr>\n",
       "    <tr>\n",
       "      <th>1</th>\n",
       "      <td>Bob</td>\n",
       "      <td>30</td>\n",
       "      <td>90</td>\n",
       "    </tr>\n",
       "    <tr>\n",
       "      <th>2</th>\n",
       "      <td>Charlie</td>\n",
       "      <td>35</td>\n",
       "      <td>100</td>\n",
       "    </tr>\n",
       "    <tr>\n",
       "      <th>3</th>\n",
       "      <td>David</td>\n",
       "      <td>40</td>\n",
       "      <td>100</td>\n",
       "    </tr>\n",
       "  </tbody>\n",
       "</table>\n",
       "</div>"
      ],
      "text/plain": [
       "      name  age  score\n",
       "0    Alice   25     85\n",
       "1      Bob   30     90\n",
       "2  Charlie   35    100\n",
       "3    David   40    100"
      ]
     },
     "execution_count": 7,
     "metadata": {},
     "output_type": "execute_result"
    }
   ],
   "source": [
    "# Set 'score' to 100 for all rows where 'age' is greater than 30\n",
    "df.loc[df['age'] > 30, 'score'] = 100\n",
    "df"
   ]
  },
  {
   "cell_type": "markdown",
   "metadata": {},
   "source": [
    "3. Adding a New Column Based on a Condition\n",
    "You can also create a new column based on a condition."
   ]
  },
  {
   "cell_type": "code",
   "execution_count": 8,
   "metadata": {},
   "outputs": [
    {
     "data": {
      "text/html": [
       "<div>\n",
       "<style scoped>\n",
       "    .dataframe tbody tr th:only-of-type {\n",
       "        vertical-align: middle;\n",
       "    }\n",
       "\n",
       "    .dataframe tbody tr th {\n",
       "        vertical-align: top;\n",
       "    }\n",
       "\n",
       "    .dataframe thead th {\n",
       "        text-align: right;\n",
       "    }\n",
       "</style>\n",
       "<table border=\"1\" class=\"dataframe\">\n",
       "  <thead>\n",
       "    <tr style=\"text-align: right;\">\n",
       "      <th></th>\n",
       "      <th>name</th>\n",
       "      <th>age</th>\n",
       "      <th>score</th>\n",
       "      <th>passed</th>\n",
       "    </tr>\n",
       "  </thead>\n",
       "  <tbody>\n",
       "    <tr>\n",
       "      <th>0</th>\n",
       "      <td>Alice</td>\n",
       "      <td>25</td>\n",
       "      <td>85</td>\n",
       "      <td>True</td>\n",
       "    </tr>\n",
       "    <tr>\n",
       "      <th>1</th>\n",
       "      <td>Bob</td>\n",
       "      <td>30</td>\n",
       "      <td>90</td>\n",
       "      <td>True</td>\n",
       "    </tr>\n",
       "    <tr>\n",
       "      <th>2</th>\n",
       "      <td>Charlie</td>\n",
       "      <td>35</td>\n",
       "      <td>100</td>\n",
       "      <td>True</td>\n",
       "    </tr>\n",
       "    <tr>\n",
       "      <th>3</th>\n",
       "      <td>David</td>\n",
       "      <td>40</td>\n",
       "      <td>100</td>\n",
       "      <td>True</td>\n",
       "    </tr>\n",
       "  </tbody>\n",
       "</table>\n",
       "</div>"
      ],
      "text/plain": [
       "      name  age  score  passed\n",
       "0    Alice   25     85    True\n",
       "1      Bob   30     90    True\n",
       "2  Charlie   35    100    True\n",
       "3    David   40    100    True"
      ]
     },
     "execution_count": 8,
     "metadata": {},
     "output_type": "execute_result"
    }
   ],
   "source": [
    "# Create a new column 'passed' based on whether 'score' is greater than or equal to 80\n",
    "df['passed'] = df['score'] >= 80\n",
    "df"
   ]
  },
  {
   "cell_type": "markdown",
   "metadata": {},
   "source": [
    "4. Using apply() with a Lambda Function for Complex Conditions\n",
    "If you need to apply more complex conditions, you can use the apply() method with a lambda function."
   ]
  },
  {
   "cell_type": "code",
   "execution_count": 9,
   "metadata": {},
   "outputs": [
    {
     "data": {
      "text/html": [
       "<div>\n",
       "<style scoped>\n",
       "    .dataframe tbody tr th:only-of-type {\n",
       "        vertical-align: middle;\n",
       "    }\n",
       "\n",
       "    .dataframe tbody tr th {\n",
       "        vertical-align: top;\n",
       "    }\n",
       "\n",
       "    .dataframe thead th {\n",
       "        text-align: right;\n",
       "    }\n",
       "</style>\n",
       "<table border=\"1\" class=\"dataframe\">\n",
       "  <thead>\n",
       "    <tr style=\"text-align: right;\">\n",
       "      <th></th>\n",
       "      <th>name</th>\n",
       "      <th>age</th>\n",
       "      <th>score</th>\n",
       "      <th>passed</th>\n",
       "      <th>category</th>\n",
       "    </tr>\n",
       "  </thead>\n",
       "  <tbody>\n",
       "    <tr>\n",
       "      <th>0</th>\n",
       "      <td>Alice</td>\n",
       "      <td>25</td>\n",
       "      <td>85</td>\n",
       "      <td>True</td>\n",
       "      <td>Young</td>\n",
       "    </tr>\n",
       "    <tr>\n",
       "      <th>1</th>\n",
       "      <td>Bob</td>\n",
       "      <td>30</td>\n",
       "      <td>90</td>\n",
       "      <td>True</td>\n",
       "      <td>Old</td>\n",
       "    </tr>\n",
       "    <tr>\n",
       "      <th>2</th>\n",
       "      <td>Charlie</td>\n",
       "      <td>35</td>\n",
       "      <td>100</td>\n",
       "      <td>True</td>\n",
       "      <td>Old</td>\n",
       "    </tr>\n",
       "    <tr>\n",
       "      <th>3</th>\n",
       "      <td>David</td>\n",
       "      <td>40</td>\n",
       "      <td>100</td>\n",
       "      <td>True</td>\n",
       "      <td>Old</td>\n",
       "    </tr>\n",
       "  </tbody>\n",
       "</table>\n",
       "</div>"
      ],
      "text/plain": [
       "      name  age  score  passed category\n",
       "0    Alice   25     85    True    Young\n",
       "1      Bob   30     90    True      Old\n",
       "2  Charlie   35    100    True      Old\n",
       "3    David   40    100    True      Old"
      ]
     },
     "execution_count": 9,
     "metadata": {},
     "output_type": "execute_result"
    }
   ],
   "source": [
    "# Create a new column 'category' based on the 'age' column\n",
    "df['category'] = df['age'].apply(lambda x: 'Young' if x < 30 else 'Old')\n",
    "df"
   ]
  },
  {
   "cell_type": "markdown",
   "metadata": {},
   "source": [
    "Summary\n",
    "- Use df[condition] to filter rows.\n",
    "- Use df.loc[condition, 'column'] to modify values.\n",
    "- Use df['new_column'] = df['column'].apply() to create new columns based on conditions."
   ]
  },
  {
   "cell_type": "markdown",
   "metadata": {},
   "source": [
    "The expression df[df['age'] > 30] is a form of Boolean indexing that is used to filter rows in a DataFrame based on a condition. Let me break down how it works step by step:\n",
    "\n",
    "### Step-by-Step Explanation\n",
    "#### Condition Evaluation: `df['age'] > 30`\n",
    "\n",
    "`df['age']` selects the \"age\" column from the DataFrame, which results in a Series (a one-dimensional array-like object).\n",
    "The condition > 30 is applied element-wise to this Series. This results in a new Boolean Series with True or False for each element, depending on whether the condition is met.\n",
    "For the example DataFrame:\n",
    "\n",
    "`df['age'] > 30`\n",
    "Output:\n",
    "0    False\n",
    "1    False\n",
    "2     True\n",
    "3     True\n",
    "Name: age, dtype: bool\n",
    "\n",
    "This output indicates that the third and fourth rows satisfy the condition (age > 30).\n",
    "\n",
    "#### Filtering with Boolean Indexing: `df[df['age'] > 30]`\n",
    "\n",
    "This part is where Boolean indexing comes into play.\n",
    "We take the original DataFrame (df) and use the Boolean Series (`df['age'] > 30`) to select rows where the condition is True.\n",
    "Essentially, `df[condition]` returns only those rows for which the condition holds True.\n",
    "The filtered DataFrame will contain only rows where age > 30:\n",
    "\n",
    "\n",
    "    name  age  score\n",
    "2  Charlie   35     75\n",
    "3    David   40     80\n",
    "\n",
    "### Why Use df[] Twice?\n",
    "The first df[] is used to select the rows that meet the condition (df[condition]).\n",
    "The condition inside the first df[] is created by evaluating a comparison on one of the columns (df['age'] > 30).\n",
    "Essentially, we are using df[] twice because:\n",
    "\n",
    "Inside: df['age'] > 30 generates a Boolean mask of which rows meet the criteria.\n",
    "Outside: df[...] uses that Boolean mask to select the rows from the DataFrame where the mask is True.\n",
    "\n",
    "This is a powerful feature of pandas, allowing you to easily filter rows based on conditions applied to column values."
   ]
  },
  {
   "cell_type": "markdown",
   "metadata": {},
   "source": [
    "The line df.loc[df['age'] > 30, 'score'] = 100 is used to conditionally modify values in a pandas DataFrame. Let’s break down the syntax to understand how it works:\n",
    "\n",
    "Breakdown of Syntax\n",
    "### `df.loc[]`:\n",
    "\n",
    "`.loc[]` is a label-based selection method in pandas.\n",
    "It allows you to access a group of rows and columns by labels or a Boolean array.\n",
    "The general form is df.loc[row_condition, column_selection].\n",
    "`df['age'] > 30`:\n",
    "\n",
    "`df['age']` selects the \"age\" column of the DataFrame, returning a pandas Series of all values in that column.\n",
    "The condition > 30 is applied element-wise to the \"age\" column, resulting in a Boolean Series of True and False values.\n",
    "This Boolean Series is used to filter the rows where the condition is met (i.e., where \"age\" is greater than 30).\n",
    "\n",
    "### `df['age'] > 30`\n",
    "Output:\n",
    "0    False\n",
    "1    False\n",
    "2     True\n",
    "3     True\n",
    "Name: age, dtype: bool\n",
    "\n",
    "This Boolean Series will be used to identify which rows should be selected.\n",
    "\n",
    "### `df.loc[df['age'] > 30, 'score']`:\n",
    "\n",
    "`df.loc[df['age'] > 30, 'score']` selects the 'score' column for the rows where \"age\" is greater than 30.\n",
    "<b>This means we are selecting all rows where the Boolean condition is True and then selecting the \"score\" column to make modifications.</b>\n",
    "\n",
    "### = 100:\n",
    "\n",
    "This assigns the value 100 to the selected rows in the \"score\" column.\n",
    "Specifically, for all rows where the \"age\" column is greater than 30, the corresponding values in the \"score\" column are set to 100.\n",
    "\n",
    "Summary\n",
    "- df.loc[row_condition, column_selection]: Used to select rows and columns using labels or Boolean conditions.\n",
    "- df['age'] > 30: Produces a Boolean Series that helps to filter rows where \"age\" is greater than 30.\n",
    "= 100: Assigns the value 100 to the selected cells in the \"score\" column.\n",
    "\n",
    "This line effectively updates the \"score\" values for all rows that meet the condition on the \"age\" column, providing a way to modify the DataFrame based on specified criteria."
   ]
  },
  {
   "cell_type": "markdown",
   "metadata": {},
   "source": []
  }
 ],
 "metadata": {
  "kernelspec": {
   "display_name": "new_env",
   "language": "python",
   "name": "python3"
  },
  "language_info": {
   "codemirror_mode": {
    "name": "ipython",
    "version": 3
   },
   "file_extension": ".py",
   "mimetype": "text/x-python",
   "name": "python",
   "nbconvert_exporter": "python",
   "pygments_lexer": "ipython3",
   "version": "3.12.3"
  }
 },
 "nbformat": 4,
 "nbformat_minor": 2
}
